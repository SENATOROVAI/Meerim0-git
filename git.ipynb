{
 "cells": [
  {
   "cell_type": "code",
   "execution_count": null,
   "metadata": {},
   "outputs": [],
   "source": [
    "\"\"\"Git и организация программных проектов.\"\"\""
   ]
  },
  {
   "cell_type": "markdown",
   "metadata": {},
   "source": [
    "*Cookiecutter* — это модуль Python, который помогает создавать \n",
    "базовые файлы и папки для новых проектов. Он используется для ускорения выполнения \n",
    "рутинных операций и создания шаблонов\n",
    " для разных типов проектов."
   ]
  },
  {
   "cell_type": "markdown",
   "metadata": {},
   "source": [
    "Git - установка.\n",
    "Для начала проверим, установлен ли Git \n",
    "при помощи команды:\n",
    "'''\n",
    "git --version\n",
    "'''\n",
    "![alt text](image-1.png)\n",
    "\n"
   ]
  },
  {
   "cell_type": "markdown",
   "metadata": {},
   "source": [
    "Видим, что Git установлен."
   ]
  },
  {
   "cell_type": "markdown",
   "metadata": {},
   "source": [
    "В Ubuntu или Debian Linux выполните команду sudo apt install git-all из окна \n",
    "терминала. В Red Hat Linux выполните команду sudo dnf install git-all из окна \n",
    "терминала."
   ]
  },
  {
   "cell_type": "markdown",
   "metadata": {},
   "source": [
    "Настройка имени пользователя и адреса электронной почты\n",
    "\n",
    "'''\n",
    "git config --global user.name \"Meerim0\"\n",
    "git config --global user.email \"nurmuhamedovameerim@gmail.com\"\n",
    "\n",
    "\n",
    "\n",
    "'''\n",
    "![alt text](image-2.png)"
   ]
  },
  {
   "cell_type": "markdown",
   "metadata": {},
   "source": [
    "Эта информация хранится в файле .gitconfig в вашей домашней папке"
   ]
  },
  {
   "cell_type": "markdown",
   "metadata": {},
   "source": [
    "Для его изменения достаточно выполнить команду \n",
    "git config. Для настройки текущей конфигурации Git используйте команду git\n",
    "config --list"
   ]
  },
  {
   "cell_type": "markdown",
   "metadata": {},
   "source": [
    "### git init:\n",
    "- cоздаёт новый локальный репозиторий Git в текущей директории.\n",
    "Это позволяет Git отслеживать изменения в проекте."
   ]
  },
  {
   "cell_type": "markdown",
   "metadata": {},
   "source": [
    "## git clone <URL>:\n",
    "- Создаёт копию удалённого репозитория на вашем компьютере. \n",
    "Это удобно для получения исходного кода с GitHub или других хостингов."
   ]
  },
  {
   "cell_type": "markdown",
   "metadata": {},
   "source": [
    "### git add <имя_файла>\n",
    "- Добавляет файл в индекс для следующего коммита.\n"
   ]
  },
  {
   "cell_type": "markdown",
   "metadata": {},
   "source": [
    "### git commit -am \"<сообщение>\":\n",
    "\n",
    "- Сохраняет изменения в репозитории, \n",
    "создав коммит с описанием изменений."
   ]
  },
  {
   "cell_type": "markdown",
   "metadata": {},
   "source": [
    "### git help <команда>:\n",
    "\n",
    "- Показывает справку по конкретной команде Git, \n",
    "объясняя её параметры и использование.\n",
    "\n"
   ]
  },
  {
   "cell_type": "markdown",
   "metadata": {},
   "source": [
    "В Git файлы могут находиться в одном из трёх состояний:\n",
    "- Изменён (modified)\n",
    "- Отслеживаемый (staged)\n",
    "- Зафиксированный (committed)\n",
    "\n",
    "\n",
    "Отслеживаемые файлы: Были добавлены в репозиторий и Git отслеживает их изменения.\n",
    "Неотслеживаемые файлы: Новые файлы, которые ещё не были \n",
    "добавлены в репозиторий, и Git их не отслеживает.\n",
    "\n",
    "\n",
    "![alt text](image-3.png)"
   ]
  },
  {
   "cell_type": "markdown",
   "metadata": {},
   "source": [
    "На любом этапе после создания репозитория выполните команду git status для \n",
    "просмотра текущего статуса репозитория и состояния его файлов."
   ]
  },
  {
   "cell_type": "markdown",
   "metadata": {},
   "source": [
    "Git является распределенной системой контроля версий; это означает, что все \n",
    "коммиты и метаданные репозиториев хранятся локально на вашем компьютере \n",
    "в папке с именем .git. "
   ]
  },
  {
   "cell_type": "markdown",
   "metadata": {},
   "source": [
    "![alt text](image-4.png)"
   ]
  },
  {
   "cell_type": "markdown",
   "metadata": {},
   "source": [
    "Создали репозиторий\n"
   ]
  },
  {
   "cell_type": "markdown",
   "metadata": {},
   "source": [
    "![alt text](image-5.png)"
   ]
  },
  {
   "cell_type": "markdown",
   "metadata": {},
   "source": [
    "git add .: Добавляет все изменённые и новые файлы в индекс,\n",
    "чтобы они были готовы к коммиту.\n",
    "\n",
    "\n",
    "Команда git commit -m \"Adding new files to the repo.\" \n",
    "выполняет коммит изменений, добавленных в индекс\n",
    "(staging area), с указанием сообщения коммита."
   ]
  },
  {
   "cell_type": "markdown",
   "metadata": {},
   "source": [
    "Чтобы предотвратить включение этих файлов, создайте текстовый файл с именем \n",
    ".gitignore и перечислите в нем файлы и папки, которые не должны отслеживаться \n",
    "Git."
   ]
  },
  {
   "cell_type": "markdown",
   "metadata": {},
   "source": [
    "Командой git diff  можно воспользоваться для просмотра различий между \n",
    "рабочей копией кода и последним сохраненным кодом "
   ]
  },
  {
   "cell_type": "markdown",
   "metadata": {},
   "source": [
    "Если не нужно, чтобы какой-либо файл отслеживался в Git, не можем просто \n",
    "удалить его из файловой системы. Это необходимо сделать через Git командой \n",
    "*git rm*"
   ]
  },
  {
   "cell_type": "markdown",
   "metadata": {},
   "source": [
    "Команда git rm удаляет файл из рабочей копии, но это еще не все. Как и git add, \n",
    "команда git rm индексирует файл. Удаление файла необходимо закрепить точно \n",
    "так же, как любые другие изменени"
   ]
  },
  {
   "cell_type": "markdown",
   "metadata": {},
   "source": [
    "![alt text](image-6.png)"
   ]
  },
  {
   "cell_type": "markdown",
   "metadata": {},
   "source": [
    "git mv README.md README.txt - команда git mv перемещает файл из одного места в другое."
   ]
  },
  {
   "cell_type": "markdown",
   "metadata": {},
   "source": [
    "![alt text](image-7.png)"
   ]
  },
  {
   "cell_type": "markdown",
   "metadata": {},
   "source": [
    "git mv movetest/README.txt README.md  - вернулся в прежнее место\n",
    "хотя файл README.md вернулся в исходную папку и имеет исходное имя, \n",
    "репозиторий Git запоминает изменения имени и местоположения"
   ]
  },
  {
   "cell_type": "markdown",
   "metadata": {},
   "source": [
    "Команда git log выводит список всех коммитов:"
   ]
  },
  {
   "cell_type": "markdown",
   "metadata": {},
   "source": [
    "![alt text](image-8.png)"
   ]
  },
  {
   "cell_type": "markdown",
   "metadata": {},
   "source": [
    "Если вы хотите вернуть файлы к более раннему коммиту, сначала следует найти \n",
    "хеш коммита — строку из 40 шестнадцатеричных цифр (0–9 и буквы A–F), которая \n",
    "служит уникальным идентификатором коммита. "
   ]
  },
  {
   "cell_type": "markdown",
   "metadata": {},
   "source": [
    "На практике обычно используются только первые семь знаков: 962a8ba"
   ]
  },
  {
   "cell_type": "markdown",
   "metadata": {},
   "source": [
    "Ключ --oneline усекает вывод \n",
    "до сокращенных хешей и первой строки каждого сообщения коммита."
   ]
  },
  {
   "cell_type": "markdown",
   "metadata": {},
   "source": [
    "Введите команду \n",
    ">git log --oneline -n 3\n",
    ", чтобы \n",
    "просмотреть только три последних коммита"
   ]
  },
  {
   "cell_type": "markdown",
   "metadata": {},
   "source": [
    "![alt text](image-9.png)"
   ]
  },
  {
   "cell_type": "markdown",
   "metadata": {},
   "source": [
    "хотите вернуть его к версии \n",
    "в последнем коммите? выполните команду git restore<имя_файла>. "
   ]
  },
  {
   "cell_type": "markdown",
   "metadata": {},
   "source": [
    "> git restore --staged README.md - исключить его из индексированного состояния,\n",
    " чтобы он не был включен в следующий коммит.\n"
   ]
  },
  {
   "cell_type": "markdown",
   "metadata": {},
   "source": [
    "Чтобы отменить конкретное число последних коммитов \n",
    "(например, 3), используйте команду git revert -n HEAD~3..HEAD. Вместо 3 можно \n",
    "указать любое количество коммитов."
   ]
  },
  {
   "cell_type": "markdown",
   "metadata": {},
   "source": [
    "При помощи команды\n",
    " >git checkout <хеш> -- <имя_файла> можно вернуть \n",
    "содержимое eggs.py к этой версии и сохранить измененный\n",
    " файл обычным способом"
   ]
  },
  {
   "cell_type": "markdown",
   "metadata": {},
   "source": [
    ">git remote add origin https://github.com/SENATOROVAI/Meerim0-git.git - добавляет удаленный репозиторий\n",
    "\n",
    ">git clone https://github.com/Meerim0/Meerim0-git.git - клонирует удаленный репозиторий на ваш компьютер\n"
   ]
  }
 ],
 "metadata": {
  "kernelspec": {
   "display_name": "Python 3",
   "language": "python",
   "name": "python3"
  },
  "language_info": {
   "name": "python",
   "version": "3.13.0"
  }
 },
 "nbformat": 4,
 "nbformat_minor": 2
}
